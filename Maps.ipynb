{
 "cells": [
  {
   "cell_type": "markdown",
   "metadata": {},
   "source": [
    "# Hash Maps/Dictionaries"
   ]
  },
  {
   "cell_type": "markdown",
   "metadata": {},
   "source": [
    "## How They Work\n",
    "\n",
    "Dictionaries map key:value pairs to specific locations in an array. A **hash function** takes a **key** and creates a **hash code/value**, which determines where to store the value in the array.\n",
    "\n",
    "Pros:\n",
    "- Fast Insertion\n",
    "- Fast Deletion\n",
    "- Fast Look-Up\n",
    "\n",
    "Considerations:\n",
    "- Collision Resolution: how to handle when two keys map to the same index\n",
    "  - Linear Probing: Assigns key to the next available index (leads to clustering and reduces to O(n))\n",
    "  - Double Hashing: Instead of going to the next available index, the stepSize depends on the key s.t. `SS = C - (key % C)` where C is a small prime number < len(HT). Here, the final hash would be `(hash(key) + i * SS(key)) % len(HT)` where i is incremented for every collision\n",
    "  - Separate Chaining: Each index in the array is a linked list, and new values are inserted at the head; maintains O(1) insertion but O(n/k) searching\\\n",
    "- Good Hash Functions Minimize Collisions:\n",
    "  - Make use of all info provided by key\n",
    "  - Uniformly distributes output across table\n",
    "  - Similar keys still map to different hash values\n",
    "  - Uses only fast operations\n",
    "\n",
    "\n",
    "Common Hash Functions:\n",
    "- Numeric keys: `key % len(HT)`\n",
    "- Lowercase keys: `sum((ord(c) - 96) * 26 ** (len(key) - i - 1) for i, c in enumerate(key))`  \n",
    "  'ace' -> `1 * 26 ** 2 + 3 * 26 ** 1 + 5 * 26 ** 0`  \n",
    "  More efficient to compute as `((1) * 26 + 2) * 26 + 5`"
   ]
  },
  {
   "cell_type": "code",
   "execution_count": null,
   "metadata": {},
   "outputs": [],
   "source": []
  }
 ],
 "metadata": {
  "kernelspec": {
   "display_name": "Python 3.8.10 64-bit",
   "language": "python",
   "name": "python3"
  },
  "language_info": {
   "codemirror_mode": {
    "name": "ipython",
    "version": 3
   },
   "file_extension": ".py",
   "mimetype": "text/x-python",
   "name": "python",
   "nbconvert_exporter": "python",
   "pygments_lexer": "ipython3",
   "version": "3.8.10"
  },
  "orig_nbformat": 4,
  "vscode": {
   "interpreter": {
    "hash": "916dbcbb3f70747c44a77c7bcd40155683ae19c65e1c03b4aa3499c5328201f1"
   }
  }
 },
 "nbformat": 4,
 "nbformat_minor": 2
}
